{
 "cells": [
  {
   "cell_type": "code",
   "execution_count": 153,
   "metadata": {
    "collapsed": false
   },
   "outputs": [],
   "source": [
    "import os, sys\n",
    "import numpy as np\n",
    "import scipy\n",
    "import scipy.sparse as sps\n",
    "import csv\n",
    "from scipy.optimize import leastsq\n",
    "from scipy.sparse import csr_matrix,lil_matrix\n",
    "import matplotlib.pyplot as plt\n",
    "%matplotlib inline"
   ]
  },
  {
   "cell_type": "code",
   "execution_count": 2,
   "metadata": {
    "collapsed": true
   },
   "outputs": [],
   "source": [
    "full_data = np.genfromtxt('../../data/ml-100k/ml-100k/u1.base', delimiter='\\t')"
   ]
  },
  {
   "cell_type": "code",
   "execution_count": 41,
   "metadata": {
    "collapsed": false
   },
   "outputs": [],
   "source": [
    "# columns: user_id, item_id, rating\n",
    "train_data = np.delete(full_data,-1,1)\n",
    "test_data = np.genfromtxt('../../data/ml-100k/ml-100k/u1.test', delimiter='\\t')\n",
    "test_data = np.delete(test_data,-1,1)"
   ]
  },
  {
   "cell_type": "code",
   "execution_count": 4,
   "metadata": {
    "collapsed": false
   },
   "outputs": [
    {
     "data": {
      "image/png": "[encoded data removed]",
      "text/plain": [
       "<matplotlib.figure.Figure at 0x7fc35e071e10>"
      ]
     },
     "metadata": {},
     "output_type": "display_data"
    }
   ],
   "source": [
    "x = np.array([0, 1, 2, 3])\n",
    "y = np.array([-1, 0.2, 0.9, 2.1])\n",
    "A = np.vstack([x, np.ones(len(x))]).T\n",
    "\n",
    "def get_func(params):\n",
    "    m,c = params\n",
    "    func = lambda x: m*x + c\n",
    "    return(func)\n",
    "\n",
    "error_function = lambda params,x,y: get_func(params)(x) - y\n",
    "\n",
    "initial_params = (1.0,1.0)\n",
    "\n",
    "final_params,success = leastsq(error_function,initial_params,args =(x,y) )\n",
    "\n",
    "final_params\n",
    "\n",
    "plt.scatter(x,y)\n",
    "plt.plot(x,get_func(final_params)(x))\n",
    "\n",
    "plt.show()\n"
   ]
  },
  {
   "cell_type": "code",
   "execution_count": 61,
   "metadata": {
    "collapsed": false
   },
   "outputs": [
    {
     "data": {
      "text/plain": [
       "array([ 0.6446229 ,  0.03760365,  0.9051811 ,  0.00628294,  0.32692841,\n",
       "        0.65019959,  0.60888012,  0.71775236,  0.48664285,  0.73202522])"
      ]
     },
     "execution_count": 61,
     "metadata": {},
     "output_type": "execute_result"
    }
   ],
   "source": [
    "np.random.rand(10)"
   ]
  },
  {
   "cell_type": "code",
   "execution_count": 173,
   "metadata": {
    "collapsed": false
   },
   "outputs": [],
   "source": [
    "users = train_data[:,0]\n",
    "items = train_data[:,1]\n",
    "unique_users = np.unique(train_data[:,0])\n",
    "unique_items = np.unique(train_data[:,1])\n",
    "\n",
    "A = np.zeros(  int(users.max())*int(items.max()) ).reshape((int(users.max()),int(items.max())))\n",
    "\n",
    "# element (i,j) refers to user i+1 and item j+1\n",
    "for row in train_data:\n",
    "    user_id,item_id,rating = row\n",
    "   \n",
    "    A[int(user_id-1),int(item_id-1)] = rating\n",
    "\n",
    "global_item_average = items.mean()    \n",
    "\n",
    "# let's use the item averages to fill missing values\n",
    "item_averages = np.zeros(int(items.max()))\n",
    "\n",
    "for (item_id,column) in enumerate(A.T):\n",
    "    nonzeros = np.array(list(filter(lambda elem: elem != 0.0,column)))\n",
    "    \n",
    "    # if the item hasn't been rated yet, assign it the global average \n",
    "    if(len(nonzeros)==0):\n",
    "        item_avg = global_item_average\n",
    "    else:\n",
    "        item_avg = nonzeros.mean()\n",
    "    \n",
    "    item_averages[item_id-1] = item_avg\n",
    "    \n",
    "user_component,s,item_component = np.linalg.svd(A,full_matrices=False)"
   ]
  },
  {
   "cell_type": "code",
   "execution_count": 179,
   "metadata": {
    "collapsed": false
   },
   "outputs": [
    {
     "data": {
      "text/plain": [
       "((943, 943), (943, 1682), (943,))"
      ]
     },
     "execution_count": 179,
     "metadata": {},
     "output_type": "execute_result"
    }
   ],
   "source": [
    "user_component.shape, item_component.shape,s.shape"
   ]
  },
  {
   "cell_type": "code",
   "execution_count": 180,
   "metadata": {
    "collapsed": false
   },
   "outputs": [
    {
     "data": {
      "text/plain": [
       "((943,), (943, 943), (1682,))"
      ]
     },
     "execution_count": 180,
     "metadata": {},
     "output_type": "execute_result"
    }
   ],
   "source": [
    "user_component[0].shape,np.diag(s).shape,item_component[0].shape"
   ]
  },
  {
   "cell_type": "code",
   "execution_count": 181,
   "metadata": {
    "collapsed": false
   },
   "outputs": [
    {
     "data": {
      "text/plain": [
       "3.7193413395384942"
      ]
     },
     "execution_count": 181,
     "metadata": {},
     "output_type": "execute_result"
    }
   ],
   "source": [
    "SE = 0.0\n",
    "\n",
    "# reconstructed matrix\n",
    "A_hat = np.dot(np.dot(user_component,np.diag(s)),item_component)\n",
    "\n",
    "for row in test_data:\n",
    "    user_id = int(row[0])\n",
    "    item_id = int(row[1])\n",
    "    rating = row[2]\n",
    "    \n",
    "    i = user_id-1\n",
    "    j = item_id-1\n",
    "    \n",
    "    user_feature_vector = user_component[i]\n",
    "    item_feature_vector = item_component.T[j]\n",
    "   \n",
    "    rating_hat = A_hat[i][j]\n",
    "\n",
    "    squared_error = (rating - rating_hat) ** 2\n",
    "    \n",
    "    SE += squared_error\n",
    "    \n",
    "MSE = SE/len(test_data)\n",
    "RMSE = np.sqrt(MSE)\n",
    "RMSE    "
   ]
  },
  {
   "cell_type": "code",
   "execution_count": 34,
   "metadata": {
    "collapsed": false
   },
   "outputs": [
    {
     "data": {
      "text/plain": [
       "727965.48913275986"
      ]
     },
     "execution_count": 34,
     "metadata": {},
     "output_type": "execute_result"
    }
   ],
   "source": [
    "error_sq = 0.0\n",
    "\n",
    "for row in train_data:\n",
    "    user_id = int(row[0])\n",
    "    item_id = int(row[1])\n",
    "    rating = row[2]\n",
    "    \n",
    "    i = user_id-1\n",
    "    j = item_id-1\n",
    "    \n",
    "    user_feature_vector = user_component[i]\n",
    "    item_feature_vector = item_component[j]\n",
    "          \n",
    "    rating_hat = user_feature_vector.dot(item_feature_vector.T)[0,0]\n",
    "    \n",
    "    error_sq += (rating - rating_hat) ** 2\n",
    "              \n",
    "error_sq\n",
    "    \n",
    "#     error = (rating - rating_hat)\n",
    "    \n",
    "#     error_squared = error ** 2\n",
    "    \n",
    "#     print(error_squared)\n",
    "    \n",
    "\n",
    "\n",
    "# # def get_func(params):\n",
    "\n",
    "# fixed_u_component\n"
   ]
  },
  {
   "cell_type": "code",
   "execution_count": null,
   "metadata": {
    "collapsed": true
   },
   "outputs": [],
   "source": []
  }
 ],
 "metadata": {
  "kernelspec": {
   "display_name": "Python 3",
   "language": "python",
   "name": "python3"
  },
  "language_info": {
   "codemirror_mode": {
    "name": "ipython",
    "version": 3
   },
   "file_extension": ".py",
   "mimetype": "text/x-python",
   "name": "python",
   "nbconvert_exporter": "python",
   "pygments_lexer": "ipython3",
   "version": "3.4.3"
  }
 },
 "nbformat": 4,
 "nbformat_minor": 0
}
